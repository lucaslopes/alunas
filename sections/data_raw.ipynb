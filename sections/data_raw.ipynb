{
 "cells": [
  {
   "cell_type": "raw",
   "metadata": {},
   "source": [
    "---\n",
    "title: \"Dataset Bruto\"\n",
    "bibliography: references.bib\n",
    "---"
   ]
  },
  {
   "cell_type": "markdown",
   "metadata": {},
   "source": [
    "# Preparando o Ambiente\n",
    "\n",
    "Utilizamos a versão 3.9.12 do _python_, apresentando o nosso estudo a partir da interface jupyter[^1], usando anaconda[^2] como gerenciador de pacotes. As bibliotecas utilizadas e suas respectivas versões estão descritas a seguir:\n",
    "\n",
    "[^1]: https://jupyter.org/\n",
    "[^2]: https://www.anaconda.com/"
   ]
  },
  {
   "cell_type": "code",
   "execution_count": 1,
   "metadata": {},
   "outputs": [
    {
     "name": "stdout",
     "output_type": "stream",
     "text": [
      "requests==2.28.1\n",
      "pandas==1.4.2\n",
      "datatable\n",
      "tqdm==4.64.0"
     ]
    }
   ],
   "source": [
    "!cat ../requirements.txt"
   ]
  },
  {
   "cell_type": "code",
   "execution_count": 8,
   "metadata": {},
   "outputs": [
    {
     "name": "stdout",
     "output_type": "stream",
     "text": [
      "Requirement already satisfied: requests==2.28.1 in /Users/lenise.rodrigues/opt/anaconda3/lib/python3.9/site-packages (from -r ../requirements.txt (line 1)) (2.28.1)\n",
      "Requirement already satisfied: pandas==1.4.2 in /Users/lenise.rodrigues/opt/anaconda3/lib/python3.9/site-packages (from -r ../requirements.txt (line 2)) (1.4.2)\n",
      "Requirement already satisfied: datatable in /Users/lenise.rodrigues/opt/anaconda3/lib/python3.9/site-packages (from -r ../requirements.txt (line 3)) (1.0.0)\n",
      "Requirement already satisfied: tqdm==4.64.0 in /Users/lenise.rodrigues/opt/anaconda3/lib/python3.9/site-packages (from -r ../requirements.txt (line 4)) (4.64.0)\n",
      "Requirement already satisfied: urllib3<1.27,>=1.21.1 in /Users/lenise.rodrigues/opt/anaconda3/lib/python3.9/site-packages (from requests==2.28.1->-r ../requirements.txt (line 1)) (1.26.9)\n",
      "Requirement already satisfied: certifi>=2017.4.17 in /Users/lenise.rodrigues/opt/anaconda3/lib/python3.9/site-packages (from requests==2.28.1->-r ../requirements.txt (line 1)) (2021.10.8)\n",
      "Requirement already satisfied: charset-normalizer<3,>=2 in /Users/lenise.rodrigues/opt/anaconda3/lib/python3.9/site-packages (from requests==2.28.1->-r ../requirements.txt (line 1)) (2.0.4)\n",
      "Requirement already satisfied: idna<4,>=2.5 in /Users/lenise.rodrigues/opt/anaconda3/lib/python3.9/site-packages (from requests==2.28.1->-r ../requirements.txt (line 1)) (3.3)\n",
      "Requirement already satisfied: python-dateutil>=2.8.1 in /Users/lenise.rodrigues/opt/anaconda3/lib/python3.9/site-packages (from pandas==1.4.2->-r ../requirements.txt (line 2)) (2.8.2)\n",
      "Requirement already satisfied: pytz>=2020.1 in /Users/lenise.rodrigues/opt/anaconda3/lib/python3.9/site-packages (from pandas==1.4.2->-r ../requirements.txt (line 2)) (2021.3)\n",
      "Requirement already satisfied: numpy>=1.18.5 in /Users/lenise.rodrigues/opt/anaconda3/lib/python3.9/site-packages (from pandas==1.4.2->-r ../requirements.txt (line 2)) (1.21.5)\n",
      "Requirement already satisfied: six>=1.5 in /Users/lenise.rodrigues/opt/anaconda3/lib/python3.9/site-packages (from python-dateutil>=2.8.1->pandas==1.4.2->-r ../requirements.txt (line 2)) (1.16.0)\n",
      "Note: you may need to restart the kernel to use updated packages.\n"
     ]
    }
   ],
   "source": [
    "conda install pip\n",
    "pip install -r ../requirements.txt"
   ]
  },
  {
   "cell_type": "markdown",
   "metadata": {},
   "source": [
    "# Escolha do Dataset"
   ]
  },
  {
   "cell_type": "markdown",
   "metadata": {},
   "source": [
    "Buscamos uma base de dados de procedência confiável, que possuísse também dados históricos para possibilitar uma análise temporal mais apurada e não apenas um olhar mais fechado na última amostra. As bases selecionadas foram provenientes do Censo de Educação Superior,[^3] fornecido pelo INEP, , usando a tabela `Microdados | Censo da Educação Superior`, disponível em  `https://download.inep.gov.br/microdados/microdados_censo_da_educacao_superior_{year}.zip}`, em que o `year` corresponde ao ano alvo para cada coleta.  \n",
    "Levamos em consideração dados coletados no período entre 2010 e 2019 e, a partir disso, fizemos uma agregação de todas as tabelas em um único arquivo que chamamos de `cursos`.\n",
    "\n",
    "Abaixo, está o esse código de coleta dos microdados, usando uma função auxiliar para automatizar o processo.\n",
    "\n",
    "[^3]: https://www.gov.br/inep/pt-br/areas-de-atuacao/pesquisas-estatisticas-e-indicadores/censo-da-educacao-superior/resultados"
   ]
  },
  {
   "cell_type": "code",
   "execution_count": 3,
   "metadata": {},
   "outputs": [],
   "source": [
    "import os\n",
    "import pandas as pd\n",
    "import datatable as dt\n",
    "import requests, warnings\n",
    "from tqdm import tqdm"
   ]
  },
  {
   "cell_type": "code",
   "execution_count": 2,
   "metadata": {},
   "outputs": [],
   "source": [
    "def download_raw_data(\n",
    "    url_base,\n",
    "    from_year,\n",
    "    to_year,\n",
    "    output_dir=''\n",
    "  ):\n",
    "  os.makedirs(os.path.dirname(output_dir), exist_ok=True)\n",
    "  years = range(from_year, to_year + 1)\n",
    "  n_years = to_year - from_year + 1\n",
    "  for y in tqdm(years, total=n_years):\n",
    "    fname = f'censo_{y}.zip'\n",
    "    export = output_dir + fname\n",
    "    url = url_base.format(year = y)\n",
    "    try:\n",
    "      with warnings.catch_warnings():\n",
    "        warnings.simplefilter(\"ignore\")\n",
    "        r = requests.get(\n",
    "          url, verify = False)\n",
    "      with open(export, 'wb') as f:\n",
    "        f.write(r.content)\n",
    "      print(f'Success to download year: {y}')\n",
    "    except:\n",
    "      print(f'Failed to download year: {y} from {url}')\n"
   ]
  },
  {
   "cell_type": "code",
   "execution_count": 3,
   "metadata": {},
   "outputs": [
    {
     "name": "stderr",
     "output_type": "stream",
     "text": [
      " 10%|█         | 1/10 [00:03<00:28,  3.21s/it]"
     ]
    },
    {
     "name": "stdout",
     "output_type": "stream",
     "text": [
      "Success to download year: 2010\n"
     ]
    },
    {
     "name": "stderr",
     "output_type": "stream",
     "text": [
      " 20%|██        | 2/10 [00:06<00:26,  3.35s/it]"
     ]
    },
    {
     "name": "stdout",
     "output_type": "stream",
     "text": [
      "Success to download year: 2011\n"
     ]
    },
    {
     "name": "stderr",
     "output_type": "stream",
     "text": [
      " 30%|███       | 3/10 [00:12<00:31,  4.52s/it]"
     ]
    },
    {
     "name": "stdout",
     "output_type": "stream",
     "text": [
      "Success to download year: 2012\n"
     ]
    },
    {
     "name": "stderr",
     "output_type": "stream",
     "text": [
      " 40%|████      | 4/10 [00:17<00:27,  4.53s/it]"
     ]
    },
    {
     "name": "stdout",
     "output_type": "stream",
     "text": [
      "Success to download year: 2013\n"
     ]
    },
    {
     "name": "stderr",
     "output_type": "stream",
     "text": [
      " 50%|█████     | 5/10 [00:21<00:22,  4.58s/it]"
     ]
    },
    {
     "name": "stdout",
     "output_type": "stream",
     "text": [
      "Success to download year: 2014\n"
     ]
    },
    {
     "name": "stderr",
     "output_type": "stream",
     "text": [
      " 60%|██████    | 6/10 [00:26<00:18,  4.55s/it]"
     ]
    },
    {
     "name": "stdout",
     "output_type": "stream",
     "text": [
      "Success to download year: 2015\n"
     ]
    },
    {
     "name": "stderr",
     "output_type": "stream",
     "text": [
      " 70%|███████   | 7/10 [00:31<00:14,  4.70s/it]"
     ]
    },
    {
     "name": "stdout",
     "output_type": "stream",
     "text": [
      "Success to download year: 2016\n"
     ]
    },
    {
     "name": "stderr",
     "output_type": "stream",
     "text": [
      " 80%|████████  | 8/10 [00:36<00:09,  4.95s/it]"
     ]
    },
    {
     "name": "stdout",
     "output_type": "stream",
     "text": [
      "Success to download year: 2017\n"
     ]
    },
    {
     "name": "stderr",
     "output_type": "stream",
     "text": [
      " 90%|█████████ | 9/10 [00:42<00:05,  5.34s/it]"
     ]
    },
    {
     "name": "stdout",
     "output_type": "stream",
     "text": [
      "Success to download year: 2018\n"
     ]
    },
    {
     "name": "stderr",
     "output_type": "stream",
     "text": [
      "100%|██████████| 10/10 [00:54<00:00,  5.43s/it]"
     ]
    },
    {
     "name": "stdout",
     "output_type": "stream",
     "text": [
      "Success to download year: 2019\n"
     ]
    },
    {
     "name": "stderr",
     "output_type": "stream",
     "text": [
      "\n"
     ]
    }
   ],
   "source": [
    "url_base = '/'.join([\n",
    "  'https://download.inep.gov.br',\n",
    "  'microdados',\n",
    "  'microdados_censo_da_educacao_superior_{year}.zip'])\n",
    "\n",
    "from_year = 2010\n",
    "to_year = 2019\n",
    "\n",
    "output_dir = '../data/raw/'\n",
    "download_raw_data(\n",
    "  url_base,\n",
    "  from_year,\n",
    "  to_year,\n",
    "  output_dir\n",
    ")"
   ]
  },
  {
   "cell_type": "markdown",
   "metadata": {},
   "source": [
    "# Datasets Complementares"
   ]
  },
  {
   "cell_type": "markdown",
   "metadata": {},
   "source": [
    "Datasets que contém informações que serão úteis para nossa análise."
   ]
  },
  {
   "cell_type": "markdown",
   "metadata": {},
   "source": [
    "## Latitude & Longitude dos Municípios"
   ]
  },
  {
   "cell_type": "markdown",
   "metadata": {},
   "source": [
    "https://github.com/kelvins/Municipios-Brasileiros/blob/main/csv/municipios.csv"
   ]
  },
  {
   "cell_type": "code",
   "execution_count": 7,
   "metadata": {},
   "outputs": [
    {
     "data": {
      "text/html": [
       "<div>\n",
       "<style scoped>\n",
       "    .dataframe tbody tr th:only-of-type {\n",
       "        vertical-align: middle;\n",
       "    }\n",
       "\n",
       "    .dataframe tbody tr th {\n",
       "        vertical-align: top;\n",
       "    }\n",
       "\n",
       "    .dataframe thead th {\n",
       "        text-align: right;\n",
       "    }\n",
       "</style>\n",
       "<table border=\"1\" class=\"dataframe\">\n",
       "  <thead>\n",
       "    <tr style=\"text-align: right;\">\n",
       "      <th></th>\n",
       "      <th>codigo_ibge</th>\n",
       "      <th>nome</th>\n",
       "      <th>latitude</th>\n",
       "      <th>longitude</th>\n",
       "      <th>capital</th>\n",
       "      <th>codigo_uf</th>\n",
       "      <th>siafi_id</th>\n",
       "      <th>ddd</th>\n",
       "      <th>fuso_horario</th>\n",
       "    </tr>\n",
       "  </thead>\n",
       "  <tbody>\n",
       "    <tr>\n",
       "      <th>0</th>\n",
       "      <td>5200050</td>\n",
       "      <td>Abadia de Goiás</td>\n",
       "      <td>-16.75730</td>\n",
       "      <td>-49.4412</td>\n",
       "      <td>0</td>\n",
       "      <td>52</td>\n",
       "      <td>1050</td>\n",
       "      <td>62</td>\n",
       "      <td>America/Sao_Paulo</td>\n",
       "    </tr>\n",
       "    <tr>\n",
       "      <th>1</th>\n",
       "      <td>3100104</td>\n",
       "      <td>Abadia dos Dourados</td>\n",
       "      <td>-18.48310</td>\n",
       "      <td>-47.3916</td>\n",
       "      <td>0</td>\n",
       "      <td>31</td>\n",
       "      <td>4001</td>\n",
       "      <td>34</td>\n",
       "      <td>America/Sao_Paulo</td>\n",
       "    </tr>\n",
       "    <tr>\n",
       "      <th>2</th>\n",
       "      <td>5200100</td>\n",
       "      <td>Abadiânia</td>\n",
       "      <td>-16.19700</td>\n",
       "      <td>-48.7057</td>\n",
       "      <td>0</td>\n",
       "      <td>52</td>\n",
       "      <td>9201</td>\n",
       "      <td>62</td>\n",
       "      <td>America/Sao_Paulo</td>\n",
       "    </tr>\n",
       "    <tr>\n",
       "      <th>3</th>\n",
       "      <td>3100203</td>\n",
       "      <td>Abaeté</td>\n",
       "      <td>-19.15510</td>\n",
       "      <td>-45.4444</td>\n",
       "      <td>0</td>\n",
       "      <td>31</td>\n",
       "      <td>4003</td>\n",
       "      <td>37</td>\n",
       "      <td>America/Sao_Paulo</td>\n",
       "    </tr>\n",
       "    <tr>\n",
       "      <th>4</th>\n",
       "      <td>1500107</td>\n",
       "      <td>Abaetetuba</td>\n",
       "      <td>-1.72183</td>\n",
       "      <td>-48.8788</td>\n",
       "      <td>0</td>\n",
       "      <td>15</td>\n",
       "      <td>401</td>\n",
       "      <td>91</td>\n",
       "      <td>America/Sao_Paulo</td>\n",
       "    </tr>\n",
       "    <tr>\n",
       "      <th>...</th>\n",
       "      <td>...</td>\n",
       "      <td>...</td>\n",
       "      <td>...</td>\n",
       "      <td>...</td>\n",
       "      <td>...</td>\n",
       "      <td>...</td>\n",
       "      <td>...</td>\n",
       "      <td>...</td>\n",
       "      <td>...</td>\n",
       "    </tr>\n",
       "    <tr>\n",
       "      <th>5565</th>\n",
       "      <td>2933604</td>\n",
       "      <td>Xique-Xique</td>\n",
       "      <td>-10.82300</td>\n",
       "      <td>-42.7245</td>\n",
       "      <td>0</td>\n",
       "      <td>29</td>\n",
       "      <td>3971</td>\n",
       "      <td>74</td>\n",
       "      <td>America/Sao_Paulo</td>\n",
       "    </tr>\n",
       "    <tr>\n",
       "      <th>5566</th>\n",
       "      <td>2517407</td>\n",
       "      <td>Zabelê</td>\n",
       "      <td>-8.07901</td>\n",
       "      <td>-37.1057</td>\n",
       "      <td>0</td>\n",
       "      <td>25</td>\n",
       "      <td>542</td>\n",
       "      <td>83</td>\n",
       "      <td>America/Sao_Paulo</td>\n",
       "    </tr>\n",
       "    <tr>\n",
       "      <th>5567</th>\n",
       "      <td>3557154</td>\n",
       "      <td>Zacarias</td>\n",
       "      <td>-21.05060</td>\n",
       "      <td>-50.0552</td>\n",
       "      <td>0</td>\n",
       "      <td>35</td>\n",
       "      <td>2973</td>\n",
       "      <td>18</td>\n",
       "      <td>America/Sao_Paulo</td>\n",
       "    </tr>\n",
       "    <tr>\n",
       "      <th>5568</th>\n",
       "      <td>2114007</td>\n",
       "      <td>Zé Doca</td>\n",
       "      <td>-3.27014</td>\n",
       "      <td>-45.6553</td>\n",
       "      <td>0</td>\n",
       "      <td>21</td>\n",
       "      <td>1287</td>\n",
       "      <td>98</td>\n",
       "      <td>America/Sao_Paulo</td>\n",
       "    </tr>\n",
       "    <tr>\n",
       "      <th>5569</th>\n",
       "      <td>4219853</td>\n",
       "      <td>Zortéa</td>\n",
       "      <td>-27.45210</td>\n",
       "      <td>-51.5520</td>\n",
       "      <td>0</td>\n",
       "      <td>42</td>\n",
       "      <td>950</td>\n",
       "      <td>49</td>\n",
       "      <td>America/Sao_Paulo</td>\n",
       "    </tr>\n",
       "  </tbody>\n",
       "</table>\n",
       "<p>5570 rows × 9 columns</p>\n",
       "</div>"
      ],
      "text/plain": [
       "      codigo_ibge                 nome  latitude  longitude  capital  \\\n",
       "0         5200050      Abadia de Goiás -16.75730   -49.4412        0   \n",
       "1         3100104  Abadia dos Dourados -18.48310   -47.3916        0   \n",
       "2         5200100            Abadiânia -16.19700   -48.7057        0   \n",
       "3         3100203               Abaeté -19.15510   -45.4444        0   \n",
       "4         1500107           Abaetetuba  -1.72183   -48.8788        0   \n",
       "...           ...                  ...       ...        ...      ...   \n",
       "5565      2933604          Xique-Xique -10.82300   -42.7245        0   \n",
       "5566      2517407               Zabelê  -8.07901   -37.1057        0   \n",
       "5567      3557154             Zacarias -21.05060   -50.0552        0   \n",
       "5568      2114007              Zé Doca  -3.27014   -45.6553        0   \n",
       "5569      4219853               Zortéa -27.45210   -51.5520        0   \n",
       "\n",
       "      codigo_uf  siafi_id  ddd       fuso_horario  \n",
       "0            52      1050   62  America/Sao_Paulo  \n",
       "1            31      4001   34  America/Sao_Paulo  \n",
       "2            52      9201   62  America/Sao_Paulo  \n",
       "3            31      4003   37  America/Sao_Paulo  \n",
       "4            15       401   91  America/Sao_Paulo  \n",
       "...         ...       ...  ...                ...  \n",
       "5565         29      3971   74  America/Sao_Paulo  \n",
       "5566         25       542   83  America/Sao_Paulo  \n",
       "5567         35      2973   18  America/Sao_Paulo  \n",
       "5568         21      1287   98  America/Sao_Paulo  \n",
       "5569         42       950   49  America/Sao_Paulo  \n",
       "\n",
       "[5570 rows x 9 columns]"
      ]
     },
     "execution_count": 7,
     "metadata": {},
     "output_type": "execute_result"
    }
   ],
   "source": [
    "url_mun = 'https://raw.githubusercontent.com/kelvins/Municipios-Brasileiros/main/csv/municipios.csv'\n",
    "df_mun = pd.read_csv(url_mun)\n",
    "df_mun"
   ]
  },
  {
   "cell_type": "code",
   "execution_count": 8,
   "metadata": {},
   "outputs": [],
   "source": [
    "path_mun = '../data/municipios.csv.zip'\n",
    "df_mun.to_csv(path_mun, index=False)"
   ]
  }
 ],
 "metadata": {
  "kernelspec": {
   "display_name": "Python 3.9.12 ('base')",
   "language": "python",
   "name": "python3"
  },
  "language_info": {
   "codemirror_mode": {
    "name": "ipython",
    "version": 3
   },
   "file_extension": ".py",
   "mimetype": "text/x-python",
   "name": "python",
   "nbconvert_exporter": "python",
   "pygments_lexer": "ipython3",
   "version": "3.9.12"
  },
  "orig_nbformat": 4,
  "vscode": {
   "interpreter": {
    "hash": "de2e2a7f76ec950c607c53417877c2c98a9c5e954222e12c19953f27b7e57dcb"
   }
  }
 },
 "nbformat": 4,
 "nbformat_minor": 2
}
